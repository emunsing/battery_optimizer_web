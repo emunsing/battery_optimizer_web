{
 "cells": [
  {
   "cell_type": "code",
   "execution_count": 2,
   "id": "18bdaafe-0bfb-4fe4-8adc-1ded01f5723f",
   "metadata": {},
   "outputs": [],
   "source": [
    "import pandas as pd\n",
    "import numpy as np\n",
    "import matplotlib.pyplot as plt\n",
    "\n",
    "from solar import REF_SOLAR_DATA\n",
    "from batteryopt import process_pge_meterdata, merge_solar_and_load_data, build_tariff, run_optimization\n",
    "\n",
    "%load_ext autoreload\n",
    "%autoreload 2"
   ]
  },
  {
   "cell_type": "code",
   "execution_count": null,
   "id": "27a2b447-c6f0-45d2-a80a-dfbaa02bf8dc",
   "metadata": {},
   "outputs": [],
   "source": [
    "solar_size_kw = 1.0\n",
    "batt_size_kwh = 13.5\n",
    "csv_file = 'data/pge-e78ff14c-c8c0-11ec-8cc7-0200170a3297-DailyUsageData/pge_electric_usage_interval_data_Service 1_1_2024-02-01_to_2025-01-31.csv'\n",
    "\n",
    "elec_usage = process_pge_meterdata(csv_file)\n",
    "site_data = merge_solar_and_load_data(elec_usage, solar_size_kw * REF_SOLAR_DATA)\n",
    "tariff = build_tariff(site_data.index)\n",
    "battery_dispatch = run_optimization(site_data, tariff, batt_e_max=batt_size_kwh)\n",
    "all_input = pd.concat([site_data, tariff, battery_dispatch], axis=1)\n",
    "\n",
    "final_week = all_input.loc[all_input.index[-1] - pd.DateOffset(days=7):]\n",
    "\n",
    "fig, ax = plt.subplots()\n",
    "final_week.plot(ax=ax)"
   ]
  },
  {
   "cell_type": "code",
   "execution_count": null,
   "id": "d0b3d4fe-f625-4c5f-afc0-e7d298506681",
   "metadata": {},
   "outputs": [],
   "source": [
    "tmp_output = all_input[['load', 'solar', 'px_buy', 'px_sell']]\n",
    "tmp_output.to_csv('data/tmp_out_full.csv', index=False)\n",
    "tmp_output.loc[all_input.index[-1] - pd.DateOffset(days=2):].to_csv('data/tmp_out_noindex.csv', index=False)"
   ]
  }
 ],
 "metadata": {
  "kernelspec": {
   "display_name": "Python 3 (ipykernel)",
   "language": "python",
   "name": "python3"
  },
  "language_info": {
   "codemirror_mode": {
    "name": "ipython",
    "version": 3
   },
   "file_extension": ".py",
   "mimetype": "text/x-python",
   "name": "python",
   "nbconvert_exporter": "python",
   "pygments_lexer": "ipython3",
   "version": "3.12.2"
  }
 },
 "nbformat": 4,
 "nbformat_minor": 5
}
